{
 "cells": [
  {
   "cell_type": "code",
   "execution_count": 1,
   "metadata": {
    "execution": {
     "iopub.execute_input": "2024-10-29T17:32:57.965362Z",
     "iopub.status.busy": "2024-10-29T17:32:57.965076Z",
     "iopub.status.idle": "2024-10-29T17:33:01.010298Z",
     "shell.execute_reply": "2024-10-29T17:33:01.009212Z",
     "shell.execute_reply.started": "2024-10-29T17:32:57.965329Z"
    },
    "trusted": true
   },
   "outputs": [],
   "source": [
    "import pandas as pd\n",
    "from sklearn.preprocessing import OneHotEncoder, MinMaxScaler\n",
    "from sklearn.decomposition import PCA\n",
    "from sklearn.feature_selection import RFE\n",
    "from sklearn.ensemble import RandomForestClassifier\n",
    "import numpy as np"
   ]
  },
  {
   "cell_type": "code",
   "execution_count": 2,
   "metadata": {
    "execution": {
     "iopub.execute_input": "2024-10-29T17:33:01.014517Z",
     "iopub.status.busy": "2024-10-29T17:33:01.014087Z",
     "iopub.status.idle": "2024-10-29T17:33:01.020734Z",
     "shell.execute_reply": "2024-10-29T17:33:01.019600Z",
     "shell.execute_reply.started": "2024-10-29T17:33:01.014483Z"
    },
    "trusted": true
   },
   "outputs": [],
   "source": [
    "datasets_loc=[\n",
    "                '/kaggle/input/network-intrusion-dataset/Friday-WorkingHours-Afternoon-DDos.pcap_ISCX.csv',\n",
    "                '/kaggle/input/network-intrusion-dataset/Friday-WorkingHours-Afternoon-PortScan.pcap_ISCX.csv',\n",
    "                '/kaggle/input/network-intrusion-dataset/Friday-WorkingHours-Morning.pcap_ISCX.csv',\n",
    "                '/kaggle/input/network-intrusion-dataset/Monday-WorkingHours.pcap_ISCX.csv',\n",
    "                '/kaggle/input/network-intrusion-dataset/Thursday-WorkingHours-Afternoon-Infilteration.pcap_ISCX.csv',\n",
    "                '/kaggle/input/network-intrusion-dataset/Thursday-WorkingHours-Morning-WebAttacks.pcap_ISCX.csv',\n",
    "                '/kaggle/input/network-intrusion-dataset/Tuesday-WorkingHours.pcap_ISCX.csv',\n",
    "                '/kaggle/input/network-intrusion-dataset/Wednesday-workingHours.pcap_ISCX.csv'  \n",
    "             ]"
   ]
  },
  {
   "cell_type": "code",
   "execution_count": 3,
   "metadata": {
    "execution": {
     "iopub.execute_input": "2024-10-29T17:33:01.022932Z",
     "iopub.status.busy": "2024-10-29T17:33:01.022645Z",
     "iopub.status.idle": "2024-10-29T17:33:32.142120Z",
     "shell.execute_reply": "2024-10-29T17:33:32.141113Z",
     "shell.execute_reply.started": "2024-10-29T17:33:01.022901Z"
    },
    "trusted": true
   },
   "outputs": [
    {
     "data": {
      "text/html": [
       "<div>\n",
       "<style scoped>\n",
       "    .dataframe tbody tr th:only-of-type {\n",
       "        vertical-align: middle;\n",
       "    }\n",
       "\n",
       "    .dataframe tbody tr th {\n",
       "        vertical-align: top;\n",
       "    }\n",
       "\n",
       "    .dataframe thead th {\n",
       "        text-align: right;\n",
       "    }\n",
       "</style>\n",
       "<table border=\"1\" class=\"dataframe\">\n",
       "  <thead>\n",
       "    <tr style=\"text-align: right;\">\n",
       "      <th></th>\n",
       "      <th>Destination Port</th>\n",
       "      <th>Flow Duration</th>\n",
       "      <th>Total Fwd Packets</th>\n",
       "      <th>Total Backward Packets</th>\n",
       "      <th>Total Length of Fwd Packets</th>\n",
       "      <th>Total Length of Bwd Packets</th>\n",
       "      <th>Fwd Packet Length Max</th>\n",
       "      <th>Fwd Packet Length Min</th>\n",
       "      <th>Fwd Packet Length Mean</th>\n",
       "      <th>Fwd Packet Length Std</th>\n",
       "      <th>...</th>\n",
       "      <th>min_seg_size_forward</th>\n",
       "      <th>Active Mean</th>\n",
       "      <th>Active Std</th>\n",
       "      <th>Active Max</th>\n",
       "      <th>Active Min</th>\n",
       "      <th>Idle Mean</th>\n",
       "      <th>Idle Std</th>\n",
       "      <th>Idle Max</th>\n",
       "      <th>Idle Min</th>\n",
       "      <th>Label</th>\n",
       "    </tr>\n",
       "  </thead>\n",
       "  <tbody>\n",
       "    <tr>\n",
       "      <th>0</th>\n",
       "      <td>54865</td>\n",
       "      <td>3</td>\n",
       "      <td>2</td>\n",
       "      <td>0</td>\n",
       "      <td>12</td>\n",
       "      <td>0</td>\n",
       "      <td>6</td>\n",
       "      <td>6</td>\n",
       "      <td>6.0</td>\n",
       "      <td>0.00000</td>\n",
       "      <td>...</td>\n",
       "      <td>20</td>\n",
       "      <td>0.0</td>\n",
       "      <td>0.0</td>\n",
       "      <td>0</td>\n",
       "      <td>0</td>\n",
       "      <td>0.0</td>\n",
       "      <td>0.0</td>\n",
       "      <td>0</td>\n",
       "      <td>0</td>\n",
       "      <td>BENIGN</td>\n",
       "    </tr>\n",
       "    <tr>\n",
       "      <th>1</th>\n",
       "      <td>55054</td>\n",
       "      <td>109</td>\n",
       "      <td>1</td>\n",
       "      <td>1</td>\n",
       "      <td>6</td>\n",
       "      <td>6</td>\n",
       "      <td>6</td>\n",
       "      <td>6</td>\n",
       "      <td>6.0</td>\n",
       "      <td>0.00000</td>\n",
       "      <td>...</td>\n",
       "      <td>20</td>\n",
       "      <td>0.0</td>\n",
       "      <td>0.0</td>\n",
       "      <td>0</td>\n",
       "      <td>0</td>\n",
       "      <td>0.0</td>\n",
       "      <td>0.0</td>\n",
       "      <td>0</td>\n",
       "      <td>0</td>\n",
       "      <td>BENIGN</td>\n",
       "    </tr>\n",
       "    <tr>\n",
       "      <th>2</th>\n",
       "      <td>55055</td>\n",
       "      <td>52</td>\n",
       "      <td>1</td>\n",
       "      <td>1</td>\n",
       "      <td>6</td>\n",
       "      <td>6</td>\n",
       "      <td>6</td>\n",
       "      <td>6</td>\n",
       "      <td>6.0</td>\n",
       "      <td>0.00000</td>\n",
       "      <td>...</td>\n",
       "      <td>20</td>\n",
       "      <td>0.0</td>\n",
       "      <td>0.0</td>\n",
       "      <td>0</td>\n",
       "      <td>0</td>\n",
       "      <td>0.0</td>\n",
       "      <td>0.0</td>\n",
       "      <td>0</td>\n",
       "      <td>0</td>\n",
       "      <td>BENIGN</td>\n",
       "    </tr>\n",
       "    <tr>\n",
       "      <th>3</th>\n",
       "      <td>46236</td>\n",
       "      <td>34</td>\n",
       "      <td>1</td>\n",
       "      <td>1</td>\n",
       "      <td>6</td>\n",
       "      <td>6</td>\n",
       "      <td>6</td>\n",
       "      <td>6</td>\n",
       "      <td>6.0</td>\n",
       "      <td>0.00000</td>\n",
       "      <td>...</td>\n",
       "      <td>20</td>\n",
       "      <td>0.0</td>\n",
       "      <td>0.0</td>\n",
       "      <td>0</td>\n",
       "      <td>0</td>\n",
       "      <td>0.0</td>\n",
       "      <td>0.0</td>\n",
       "      <td>0</td>\n",
       "      <td>0</td>\n",
       "      <td>BENIGN</td>\n",
       "    </tr>\n",
       "    <tr>\n",
       "      <th>4</th>\n",
       "      <td>54863</td>\n",
       "      <td>3</td>\n",
       "      <td>2</td>\n",
       "      <td>0</td>\n",
       "      <td>12</td>\n",
       "      <td>0</td>\n",
       "      <td>6</td>\n",
       "      <td>6</td>\n",
       "      <td>6.0</td>\n",
       "      <td>0.00000</td>\n",
       "      <td>...</td>\n",
       "      <td>20</td>\n",
       "      <td>0.0</td>\n",
       "      <td>0.0</td>\n",
       "      <td>0</td>\n",
       "      <td>0</td>\n",
       "      <td>0.0</td>\n",
       "      <td>0.0</td>\n",
       "      <td>0</td>\n",
       "      <td>0</td>\n",
       "      <td>BENIGN</td>\n",
       "    </tr>\n",
       "    <tr>\n",
       "      <th>...</th>\n",
       "      <td>...</td>\n",
       "      <td>...</td>\n",
       "      <td>...</td>\n",
       "      <td>...</td>\n",
       "      <td>...</td>\n",
       "      <td>...</td>\n",
       "      <td>...</td>\n",
       "      <td>...</td>\n",
       "      <td>...</td>\n",
       "      <td>...</td>\n",
       "      <td>...</td>\n",
       "      <td>...</td>\n",
       "      <td>...</td>\n",
       "      <td>...</td>\n",
       "      <td>...</td>\n",
       "      <td>...</td>\n",
       "      <td>...</td>\n",
       "      <td>...</td>\n",
       "      <td>...</td>\n",
       "      <td>...</td>\n",
       "      <td>...</td>\n",
       "    </tr>\n",
       "    <tr>\n",
       "      <th>692698</th>\n",
       "      <td>53</td>\n",
       "      <td>32215</td>\n",
       "      <td>4</td>\n",
       "      <td>2</td>\n",
       "      <td>112</td>\n",
       "      <td>152</td>\n",
       "      <td>28</td>\n",
       "      <td>28</td>\n",
       "      <td>28.0</td>\n",
       "      <td>0.00000</td>\n",
       "      <td>...</td>\n",
       "      <td>20</td>\n",
       "      <td>0.0</td>\n",
       "      <td>0.0</td>\n",
       "      <td>0</td>\n",
       "      <td>0</td>\n",
       "      <td>0.0</td>\n",
       "      <td>0.0</td>\n",
       "      <td>0</td>\n",
       "      <td>0</td>\n",
       "      <td>BENIGN</td>\n",
       "    </tr>\n",
       "    <tr>\n",
       "      <th>692699</th>\n",
       "      <td>53</td>\n",
       "      <td>324</td>\n",
       "      <td>2</td>\n",
       "      <td>2</td>\n",
       "      <td>84</td>\n",
       "      <td>362</td>\n",
       "      <td>42</td>\n",
       "      <td>42</td>\n",
       "      <td>42.0</td>\n",
       "      <td>0.00000</td>\n",
       "      <td>...</td>\n",
       "      <td>20</td>\n",
       "      <td>0.0</td>\n",
       "      <td>0.0</td>\n",
       "      <td>0</td>\n",
       "      <td>0</td>\n",
       "      <td>0.0</td>\n",
       "      <td>0.0</td>\n",
       "      <td>0</td>\n",
       "      <td>0</td>\n",
       "      <td>BENIGN</td>\n",
       "    </tr>\n",
       "    <tr>\n",
       "      <th>692700</th>\n",
       "      <td>58030</td>\n",
       "      <td>82</td>\n",
       "      <td>2</td>\n",
       "      <td>1</td>\n",
       "      <td>31</td>\n",
       "      <td>6</td>\n",
       "      <td>31</td>\n",
       "      <td>0</td>\n",
       "      <td>15.5</td>\n",
       "      <td>21.92031</td>\n",
       "      <td>...</td>\n",
       "      <td>32</td>\n",
       "      <td>0.0</td>\n",
       "      <td>0.0</td>\n",
       "      <td>0</td>\n",
       "      <td>0</td>\n",
       "      <td>0.0</td>\n",
       "      <td>0.0</td>\n",
       "      <td>0</td>\n",
       "      <td>0</td>\n",
       "      <td>BENIGN</td>\n",
       "    </tr>\n",
       "    <tr>\n",
       "      <th>692701</th>\n",
       "      <td>53</td>\n",
       "      <td>1048635</td>\n",
       "      <td>6</td>\n",
       "      <td>2</td>\n",
       "      <td>192</td>\n",
       "      <td>256</td>\n",
       "      <td>32</td>\n",
       "      <td>32</td>\n",
       "      <td>32.0</td>\n",
       "      <td>0.00000</td>\n",
       "      <td>...</td>\n",
       "      <td>20</td>\n",
       "      <td>0.0</td>\n",
       "      <td>0.0</td>\n",
       "      <td>0</td>\n",
       "      <td>0</td>\n",
       "      <td>0.0</td>\n",
       "      <td>0.0</td>\n",
       "      <td>0</td>\n",
       "      <td>0</td>\n",
       "      <td>BENIGN</td>\n",
       "    </tr>\n",
       "    <tr>\n",
       "      <th>692702</th>\n",
       "      <td>53</td>\n",
       "      <td>94939</td>\n",
       "      <td>4</td>\n",
       "      <td>2</td>\n",
       "      <td>188</td>\n",
       "      <td>226</td>\n",
       "      <td>47</td>\n",
       "      <td>47</td>\n",
       "      <td>47.0</td>\n",
       "      <td>0.00000</td>\n",
       "      <td>...</td>\n",
       "      <td>20</td>\n",
       "      <td>0.0</td>\n",
       "      <td>0.0</td>\n",
       "      <td>0</td>\n",
       "      <td>0</td>\n",
       "      <td>0.0</td>\n",
       "      <td>0.0</td>\n",
       "      <td>0</td>\n",
       "      <td>0</td>\n",
       "      <td>BENIGN</td>\n",
       "    </tr>\n",
       "  </tbody>\n",
       "</table>\n",
       "<p>2830743 rows × 79 columns</p>\n",
       "</div>"
      ],
      "text/plain": [
       "         Destination Port   Flow Duration   Total Fwd Packets  \\\n",
       "0                   54865               3                   2   \n",
       "1                   55054             109                   1   \n",
       "2                   55055              52                   1   \n",
       "3                   46236              34                   1   \n",
       "4                   54863               3                   2   \n",
       "...                   ...             ...                 ...   \n",
       "692698                 53           32215                   4   \n",
       "692699                 53             324                   2   \n",
       "692700              58030              82                   2   \n",
       "692701                 53         1048635                   6   \n",
       "692702                 53           94939                   4   \n",
       "\n",
       "         Total Backward Packets  Total Length of Fwd Packets  \\\n",
       "0                             0                           12   \n",
       "1                             1                            6   \n",
       "2                             1                            6   \n",
       "3                             1                            6   \n",
       "4                             0                           12   \n",
       "...                         ...                          ...   \n",
       "692698                        2                          112   \n",
       "692699                        2                           84   \n",
       "692700                        1                           31   \n",
       "692701                        2                          192   \n",
       "692702                        2                          188   \n",
       "\n",
       "         Total Length of Bwd Packets   Fwd Packet Length Max  \\\n",
       "0                                  0                       6   \n",
       "1                                  6                       6   \n",
       "2                                  6                       6   \n",
       "3                                  6                       6   \n",
       "4                                  0                       6   \n",
       "...                              ...                     ...   \n",
       "692698                           152                      28   \n",
       "692699                           362                      42   \n",
       "692700                             6                      31   \n",
       "692701                           256                      32   \n",
       "692702                           226                      47   \n",
       "\n",
       "         Fwd Packet Length Min   Fwd Packet Length Mean  \\\n",
       "0                            6                      6.0   \n",
       "1                            6                      6.0   \n",
       "2                            6                      6.0   \n",
       "3                            6                      6.0   \n",
       "4                            6                      6.0   \n",
       "...                        ...                      ...   \n",
       "692698                      28                     28.0   \n",
       "692699                      42                     42.0   \n",
       "692700                       0                     15.5   \n",
       "692701                      32                     32.0   \n",
       "692702                      47                     47.0   \n",
       "\n",
       "         Fwd Packet Length Std  ...   min_seg_size_forward  Active Mean  \\\n",
       "0                      0.00000  ...                     20          0.0   \n",
       "1                      0.00000  ...                     20          0.0   \n",
       "2                      0.00000  ...                     20          0.0   \n",
       "3                      0.00000  ...                     20          0.0   \n",
       "4                      0.00000  ...                     20          0.0   \n",
       "...                        ...  ...                    ...          ...   \n",
       "692698                 0.00000  ...                     20          0.0   \n",
       "692699                 0.00000  ...                     20          0.0   \n",
       "692700                21.92031  ...                     32          0.0   \n",
       "692701                 0.00000  ...                     20          0.0   \n",
       "692702                 0.00000  ...                     20          0.0   \n",
       "\n",
       "         Active Std   Active Max   Active Min  Idle Mean   Idle Std  \\\n",
       "0               0.0            0            0        0.0        0.0   \n",
       "1               0.0            0            0        0.0        0.0   \n",
       "2               0.0            0            0        0.0        0.0   \n",
       "3               0.0            0            0        0.0        0.0   \n",
       "4               0.0            0            0        0.0        0.0   \n",
       "...             ...          ...          ...        ...        ...   \n",
       "692698          0.0            0            0        0.0        0.0   \n",
       "692699          0.0            0            0        0.0        0.0   \n",
       "692700          0.0            0            0        0.0        0.0   \n",
       "692701          0.0            0            0        0.0        0.0   \n",
       "692702          0.0            0            0        0.0        0.0   \n",
       "\n",
       "         Idle Max   Idle Min   Label  \n",
       "0               0          0  BENIGN  \n",
       "1               0          0  BENIGN  \n",
       "2               0          0  BENIGN  \n",
       "3               0          0  BENIGN  \n",
       "4               0          0  BENIGN  \n",
       "...           ...        ...     ...  \n",
       "692698          0          0  BENIGN  \n",
       "692699          0          0  BENIGN  \n",
       "692700          0          0  BENIGN  \n",
       "692701          0          0  BENIGN  \n",
       "692702          0          0  BENIGN  \n",
       "\n",
       "[2830743 rows x 79 columns]"
      ]
     },
     "execution_count": 3,
     "metadata": {},
     "output_type": "execute_result"
    }
   ],
   "source": [
    "# Load the dataset\n",
    "datasets=[]\n",
    "for loc in datasets_loc:\n",
    "    datasets.append(pd.read_csv(loc))\n",
    "data=pd.concat(datasets)\n",
    "data\n"
   ]
  },
  {
   "cell_type": "code",
   "execution_count": 4,
   "metadata": {
    "execution": {
     "iopub.execute_input": "2024-10-29T17:33:32.145630Z",
     "iopub.status.busy": "2024-10-29T17:33:32.144912Z",
     "iopub.status.idle": "2024-10-29T17:33:33.444072Z",
     "shell.execute_reply": "2024-10-29T17:33:33.443047Z",
     "shell.execute_reply.started": "2024-10-29T17:33:32.145589Z"
    },
    "trusted": true
   },
   "outputs": [],
   "source": [
    "# 2. Encoding Categorical Variables\n",
    "# Apply OneHotEncoding to categorical columns\n",
    "encoder = OneHotEncoder(sparse_output=False)\n",
    "encoder_data = pd.DataFrame(encoder.fit_transform(np.array(data[' Label']).reshape([-1,1])))\n",
    "encoder_data_columns = encoder.get_feature_names_out([' Label'])\n",
    "encoder_data.columns=encoder_data_columns"
   ]
  },
  {
   "cell_type": "code",
   "execution_count": 5,
   "metadata": {
    "execution": {
     "iopub.execute_input": "2024-10-29T17:33:33.445934Z",
     "iopub.status.busy": "2024-10-29T17:33:33.445501Z",
     "iopub.status.idle": "2024-10-29T17:33:36.868714Z",
     "shell.execute_reply": "2024-10-29T17:33:36.867697Z",
     "shell.execute_reply.started": "2024-10-29T17:33:33.445889Z"
    },
    "trusted": true
   },
   "outputs": [],
   "source": [
    "# Drop original categorical columns and add the new one-hot encoded columns\n",
    "data = data.drop(columns=[' Label']).reset_index(drop=True)\n",
    "data = pd.concat([data, encoder_data], axis=1)"
   ]
  },
  {
   "cell_type": "code",
   "execution_count": 6,
   "metadata": {
    "execution": {
     "iopub.execute_input": "2024-10-29T17:33:36.870176Z",
     "iopub.status.busy": "2024-10-29T17:33:36.869859Z",
     "iopub.status.idle": "2024-10-29T17:33:36.877345Z",
     "shell.execute_reply": "2024-10-29T17:33:36.876414Z",
     "shell.execute_reply.started": "2024-10-29T17:33:36.870143Z"
    },
    "trusted": true
   },
   "outputs": [
    {
     "data": {
      "text/plain": [
       "Index([' Destination Port', ' Flow Duration', ' Total Fwd Packets',\n",
       "       ' Total Backward Packets', 'Total Length of Fwd Packets',\n",
       "       ' Total Length of Bwd Packets', ' Fwd Packet Length Max',\n",
       "       ' Fwd Packet Length Min', ' Fwd Packet Length Mean',\n",
       "       ' Fwd Packet Length Std', 'Bwd Packet Length Max',\n",
       "       ' Bwd Packet Length Min', ' Bwd Packet Length Mean',\n",
       "       ' Bwd Packet Length Std', 'Flow Bytes/s', ' Flow Packets/s',\n",
       "       ' Flow IAT Mean', ' Flow IAT Std', ' Flow IAT Max', ' Flow IAT Min',\n",
       "       'Fwd IAT Total', ' Fwd IAT Mean', ' Fwd IAT Std', ' Fwd IAT Max',\n",
       "       ' Fwd IAT Min', 'Bwd IAT Total', ' Bwd IAT Mean', ' Bwd IAT Std',\n",
       "       ' Bwd IAT Max', ' Bwd IAT Min', 'Fwd PSH Flags', ' Bwd PSH Flags',\n",
       "       ' Fwd URG Flags', ' Bwd URG Flags', ' Fwd Header Length',\n",
       "       ' Bwd Header Length', 'Fwd Packets/s', ' Bwd Packets/s',\n",
       "       ' Min Packet Length', ' Max Packet Length', ' Packet Length Mean',\n",
       "       ' Packet Length Std', ' Packet Length Variance', 'FIN Flag Count',\n",
       "       ' SYN Flag Count', ' RST Flag Count', ' PSH Flag Count',\n",
       "       ' ACK Flag Count', ' URG Flag Count', ' CWE Flag Count',\n",
       "       ' ECE Flag Count', ' Down/Up Ratio', ' Average Packet Size',\n",
       "       ' Avg Fwd Segment Size', ' Avg Bwd Segment Size',\n",
       "       ' Fwd Header Length.1', 'Fwd Avg Bytes/Bulk', ' Fwd Avg Packets/Bulk',\n",
       "       ' Fwd Avg Bulk Rate', ' Bwd Avg Bytes/Bulk', ' Bwd Avg Packets/Bulk',\n",
       "       'Bwd Avg Bulk Rate', 'Subflow Fwd Packets', ' Subflow Fwd Bytes',\n",
       "       ' Subflow Bwd Packets', ' Subflow Bwd Bytes', 'Init_Win_bytes_forward',\n",
       "       ' Init_Win_bytes_backward', ' act_data_pkt_fwd',\n",
       "       ' min_seg_size_forward', 'Active Mean', ' Active Std', ' Active Max',\n",
       "       ' Active Min', 'Idle Mean', ' Idle Std', ' Idle Max', ' Idle Min',\n",
       "       ' Label_BENIGN', ' Label_Bot', ' Label_DDoS', ' Label_DoS GoldenEye',\n",
       "       ' Label_DoS Hulk', ' Label_DoS Slowhttptest', ' Label_DoS slowloris',\n",
       "       ' Label_FTP-Patator', ' Label_Heartbleed', ' Label_Infiltration',\n",
       "       ' Label_PortScan', ' Label_SSH-Patator',\n",
       "       ' Label_Web Attack � Brute Force', ' Label_Web Attack � Sql Injection',\n",
       "       ' Label_Web Attack � XSS'],\n",
       "      dtype='object')"
      ]
     },
     "execution_count": 6,
     "metadata": {},
     "output_type": "execute_result"
    }
   ],
   "source": [
    "data.columns"
   ]
  },
  {
   "cell_type": "code",
   "execution_count": 7,
   "metadata": {
    "execution": {
     "iopub.execute_input": "2024-10-29T17:33:36.878885Z",
     "iopub.status.busy": "2024-10-29T17:33:36.878597Z",
     "iopub.status.idle": "2024-10-29T17:33:39.313791Z",
     "shell.execute_reply": "2024-10-29T17:33:39.312840Z",
     "shell.execute_reply.started": "2024-10-29T17:33:36.878854Z"
    },
    "trusted": true
   },
   "outputs": [
    {
     "name": "stdout",
     "output_type": "stream",
     "text": [
      "Fwd PSH Flags 2\n",
      " Bwd PSH Flags 1\n",
      " Fwd URG Flags 2\n",
      " Bwd URG Flags 1\n",
      "FIN Flag Count 2\n",
      " SYN Flag Count 2\n",
      " RST Flag Count 2\n",
      " PSH Flag Count 2\n",
      " ACK Flag Count 2\n",
      " URG Flag Count 2\n",
      " CWE Flag Count 2\n",
      " ECE Flag Count 2\n",
      "Fwd Avg Bytes/Bulk 1\n",
      " Fwd Avg Packets/Bulk 1\n",
      " Fwd Avg Bulk Rate 1\n",
      " Bwd Avg Bytes/Bulk 1\n",
      " Bwd Avg Packets/Bulk 1\n",
      "Bwd Avg Bulk Rate 1\n",
      " Label_BENIGN 2\n",
      " Label_Bot 2\n",
      " Label_DDoS 2\n",
      " Label_DoS GoldenEye 2\n",
      " Label_DoS Hulk 2\n",
      " Label_DoS Slowhttptest 2\n",
      " Label_DoS slowloris 2\n",
      " Label_FTP-Patator 2\n",
      " Label_Heartbleed 2\n",
      " Label_Infiltration 2\n",
      " Label_PortScan 2\n",
      " Label_SSH-Patator 2\n",
      " Label_Web Attack � Brute Force 2\n",
      " Label_Web Attack � Sql Injection 2\n",
      " Label_Web Attack � XSS 2\n"
     ]
    }
   ],
   "source": [
    "# numerical_columns\n",
    "n_unique=np.array(data.nunique())\n",
    "data_col=data.columns\n",
    "numerical_columns=[]\n",
    "for i in range(len(data_col)):\n",
    "    if n_unique[i] > 2:\n",
    "        numerical_columns.append(data_col[i])\n",
    "    else:\n",
    "        print(data_col[i], n_unique[i])"
   ]
  },
  {
   "cell_type": "code",
   "execution_count": 8,
   "metadata": {
    "execution": {
     "iopub.execute_input": "2024-10-29T17:33:39.315741Z",
     "iopub.status.busy": "2024-10-29T17:33:39.315372Z",
     "iopub.status.idle": "2024-10-29T17:33:58.047603Z",
     "shell.execute_reply": "2024-10-29T17:33:58.046722Z",
     "shell.execute_reply.started": "2024-10-29T17:33:39.315697Z"
    },
    "trusted": true
   },
   "outputs": [
    {
     "data": {
      "text/plain": [
       "0"
      ]
     },
     "execution_count": 8,
     "metadata": {},
     "output_type": "execute_result"
    }
   ],
   "source": [
    "#droping NaN and Inf values\n",
    "data=data.dropna()\n",
    "data = data[~data.isin([np.inf, -np.inf]).any(axis=1)]\n",
    "np.isinf(data[data.columns]).values.ravel().sum()"
   ]
  },
  {
   "cell_type": "code",
   "execution_count": 9,
   "metadata": {
    "execution": {
     "iopub.execute_input": "2024-10-29T17:33:58.048956Z",
     "iopub.status.busy": "2024-10-29T17:33:58.048670Z",
     "iopub.status.idle": "2024-10-29T17:34:00.969554Z",
     "shell.execute_reply": "2024-10-29T17:34:00.968765Z",
     "shell.execute_reply.started": "2024-10-29T17:33:58.048925Z"
    },
    "trusted": true
   },
   "outputs": [],
   "source": [
    "# 3. Normalization\n",
    "# Apply MinMax Scaling\n",
    "scaler = MinMaxScaler()\n",
    "data[numerical_columns] = scaler.fit_transform(data[numerical_columns])"
   ]
  },
  {
   "cell_type": "code",
   "execution_count": 11,
   "metadata": {
    "execution": {
     "iopub.execute_input": "2024-10-29T17:36:48.087869Z",
     "iopub.status.busy": "2024-10-29T17:36:48.087485Z",
     "iopub.status.idle": "2024-10-29T17:36:48.094024Z",
     "shell.execute_reply": "2024-10-29T17:36:48.093142Z",
     "shell.execute_reply.started": "2024-10-29T17:36:48.087829Z"
    },
    "trusted": true
   },
   "outputs": [
    {
     "data": {
      "text/plain": [
       "array([' Label_BENIGN', ' Label_Bot', ' Label_DDoS',\n",
       "       ' Label_DoS GoldenEye', ' Label_DoS Hulk',\n",
       "       ' Label_DoS Slowhttptest', ' Label_DoS slowloris',\n",
       "       ' Label_FTP-Patator', ' Label_Heartbleed', ' Label_Infiltration',\n",
       "       ' Label_PortScan', ' Label_SSH-Patator',\n",
       "       ' Label_Web Attack � Brute Force',\n",
       "       ' Label_Web Attack � Sql Injection', ' Label_Web Attack � XSS'],\n",
       "      dtype=object)"
      ]
     },
     "execution_count": 11,
     "metadata": {},
     "output_type": "execute_result"
    }
   ],
   "source": [
    "encoder_data_columns"
   ]
  },
  {
   "cell_type": "code",
   "execution_count": 12,
   "metadata": {
    "execution": {
     "iopub.execute_input": "2024-10-29T17:36:51.795853Z",
     "iopub.status.busy": "2024-10-29T17:36:51.795242Z",
     "iopub.status.idle": "2024-10-29T17:36:51.800786Z",
     "shell.execute_reply": "2024-10-29T17:36:51.799706Z",
     "shell.execute_reply.started": "2024-10-29T17:36:51.795812Z"
    },
    "trusted": true
   },
   "outputs": [],
   "source": [
    "label_col=[\n",
    "               ' Label_BENIGN', ' Label_Bot', ' Label_DDoS',\n",
    "               ' Label_DoS GoldenEye', ' Label_DoS Hulk',\n",
    "               ' Label_DoS Slowhttptest', ' Label_DoS slowloris',\n",
    "               ' Label_FTP-Patator', ' Label_Heartbleed', ' Label_Infiltration',\n",
    "               ' Label_PortScan', ' Label_SSH-Patator',\n",
    "               ' Label_Web Attack � Brute Force',\n",
    "               ' Label_Web Attack � Sql Injection', ' Label_Web Attack � XSS'\n",
    "          ]"
   ]
  },
  {
   "cell_type": "markdown",
   "metadata": {},
   "source": [
    "**To implement the feature extraction phase with deep autoencoders**\n",
    "\n",
    "\n"
   ]
  },
  {
   "cell_type": "code",
   "execution_count": 13,
   "metadata": {
    "execution": {
     "iopub.execute_input": "2024-10-29T17:36:54.722056Z",
     "iopub.status.busy": "2024-10-29T17:36:54.721650Z",
     "iopub.status.idle": "2024-10-29T17:36:59.064573Z",
     "shell.execute_reply": "2024-10-29T17:36:59.063754Z",
     "shell.execute_reply.started": "2024-10-29T17:36:54.722016Z"
    },
    "trusted": true
   },
   "outputs": [],
   "source": [
    "from sklearn.model_selection import train_test_split\n",
    "X_train, X_test, y_train, y_test = train_test_split(data.drop(columns=label_col),data[label_col])"
   ]
  },
  {
   "cell_type": "code",
   "execution_count": 14,
   "metadata": {
    "execution": {
     "iopub.execute_input": "2024-10-29T17:36:59.066340Z",
     "iopub.status.busy": "2024-10-29T17:36:59.066031Z",
     "iopub.status.idle": "2024-10-29T17:37:11.883463Z",
     "shell.execute_reply": "2024-10-29T17:37:11.882601Z",
     "shell.execute_reply.started": "2024-10-29T17:36:59.066308Z"
    },
    "trusted": true
   },
   "outputs": [],
   "source": [
    "import tensorflow as tf\n",
    "from tensorflow.keras import layers, models, optimizers\n",
    "import numpy as np"
   ]
  },
  {
   "cell_type": "code",
   "execution_count": 20,
   "metadata": {
    "execution": {
     "iopub.execute_input": "2024-10-29T17:38:39.552865Z",
     "iopub.status.busy": "2024-10-29T17:38:39.552501Z",
     "iopub.status.idle": "2024-10-29T17:38:39.557694Z",
     "shell.execute_reply": "2024-10-29T17:38:39.556798Z",
     "shell.execute_reply.started": "2024-10-29T17:38:39.552832Z"
    },
    "trusted": true
   },
   "outputs": [],
   "source": [
    "# Hyperparameters\n",
    "input_dim = len(data.columns)-len(label_col)  # Number of features\n",
    "latent_dim = 32  # Dimension of latent space\n",
    "learning_rate = 0.001\n",
    "batch_size = 64\n",
    "num_epochs = 20"
   ]
  },
  {
   "cell_type": "code",
   "execution_count": 21,
   "metadata": {
    "execution": {
     "iopub.execute_input": "2024-10-29T17:38:42.290793Z",
     "iopub.status.busy": "2024-10-29T17:38:42.290391Z",
     "iopub.status.idle": "2024-10-29T17:38:42.298712Z",
     "shell.execute_reply": "2024-10-29T17:38:42.297701Z",
     "shell.execute_reply.started": "2024-10-29T17:38:42.290757Z"
    },
    "trusted": true
   },
   "outputs": [],
   "source": [
    "# Define the Autoencoder Architecture\n",
    "class Autoencoder(tf.keras.Model):\n",
    "    def __init__(self, input_dim, latent_dim):\n",
    "        super(Autoencoder, self).__init__()\n",
    "        # Encoder\n",
    "        self.encoder = models.Sequential([\n",
    "            layers.InputLayer(shape=(input_dim,)),\n",
    "            layers.Dense(64, activation='relu'),\n",
    "            layers.Dense(48, activation='relu'),\n",
    "            layers.Dense(latent_dim, activation='relu')  # Latent space\n",
    "        ])\n",
    "        \n",
    "        # Decoder\n",
    "        self.decoder = models.Sequential([\n",
    "            layers.InputLayer(shape=(latent_dim,)),\n",
    "            layers.Dense(48, activation='relu'),\n",
    "            layers.Dense(64, activation='relu'),\n",
    "            layers.Dense(input_dim, activation='sigmoid')  # Use sigmoid assuming data is normalized between [0, 1]\n",
    "        ])\n",
    "        \n",
    "    def call(self, x):\n",
    "        latent = self.encoder(x)\n",
    "        reconstructed = self.decoder(latent)\n",
    "        return reconstructed\n"
   ]
  },
  {
   "cell_type": "code",
   "execution_count": 22,
   "metadata": {
    "execution": {
     "iopub.execute_input": "2024-10-29T17:38:44.273070Z",
     "iopub.status.busy": "2024-10-29T17:38:44.272381Z",
     "iopub.status.idle": "2024-10-29T17:38:48.335460Z",
     "shell.execute_reply": "2024-10-29T17:38:48.334376Z",
     "shell.execute_reply.started": "2024-10-29T17:38:44.273028Z"
    },
    "trusted": true
   },
   "outputs": [],
   "source": [
    "# Instantiate the autoencoder\n",
    "autoencoder = Autoencoder(input_dim=input_dim, latent_dim=latent_dim)\n",
    "autoencoder.compile(optimizer='adam', loss='mse')\n",
    "\n",
    "# Assuming 'X_train' is your preprocessed, normalized dataset for normal traffic\n",
    "# Convert data to TensorFlow dataset\n",
    "train_data = tf.data.Dataset.from_tensor_slices(X_train).batch(batch_size)"
   ]
  },
  {
   "cell_type": "code",
   "execution_count": 23,
   "metadata": {
    "execution": {
     "iopub.execute_input": "2024-10-29T17:38:48.337536Z",
     "iopub.status.busy": "2024-10-29T17:38:48.337213Z",
     "iopub.status.idle": "2024-10-29T17:38:48.343886Z",
     "shell.execute_reply": "2024-10-29T17:38:48.342954Z",
     "shell.execute_reply.started": "2024-10-29T17:38:48.337503Z"
    },
    "trusted": true
   },
   "outputs": [
    {
     "data": {
      "text/plain": [
       "<_BatchDataset element_spec=TensorSpec(shape=(None, 78), dtype=tf.float64, name=None)>"
      ]
     },
     "execution_count": 23,
     "metadata": {},
     "output_type": "execute_result"
    }
   ],
   "source": [
    "train_data"
   ]
  },
  {
   "cell_type": "code",
   "execution_count": 24,
   "metadata": {
    "execution": {
     "iopub.execute_input": "2024-10-29T17:38:50.247477Z",
     "iopub.status.busy": "2024-10-29T17:38:50.247086Z",
     "iopub.status.idle": "2024-10-29T17:56:43.908458Z",
     "shell.execute_reply": "2024-10-29T17:56:43.907470Z",
     "shell.execute_reply.started": "2024-10-29T17:38:50.247440Z"
    },
    "trusted": true
   },
   "outputs": [
    {
     "name": "stdout",
     "output_type": "stream",
     "text": [
      "Epoch 1/20\n",
      "\u001b[1m33140/33140\u001b[0m \u001b[32m━━━━━━━━━━━━━━━━━━━━\u001b[0m\u001b[37m\u001b[0m \u001b[1m54s\u001b[0m 2ms/step - loss: 0.0031\n",
      "Epoch 2/20\n",
      "\u001b[1m33140/33140\u001b[0m \u001b[32m━━━━━━━━━━━━━━━━━━━━\u001b[0m\u001b[37m\u001b[0m \u001b[1m52s\u001b[0m 2ms/step - loss: 4.4199e-05\n",
      "Epoch 3/20\n",
      "\u001b[1m33140/33140\u001b[0m \u001b[32m━━━━━━━━━━━━━━━━━━━━\u001b[0m\u001b[37m\u001b[0m \u001b[1m52s\u001b[0m 2ms/step - loss: 3.1405e-05\n",
      "Epoch 4/20\n",
      "\u001b[1m33140/33140\u001b[0m \u001b[32m━━━━━━━━━━━━━━━━━━━━\u001b[0m\u001b[37m\u001b[0m \u001b[1m52s\u001b[0m 2ms/step - loss: 2.4608e-05\n",
      "Epoch 5/20\n",
      "\u001b[1m33140/33140\u001b[0m \u001b[32m━━━━━━━━━━━━━━━━━━━━\u001b[0m\u001b[37m\u001b[0m \u001b[1m52s\u001b[0m 2ms/step - loss: 2.2325e-05\n",
      "Epoch 6/20\n",
      "\u001b[1m33140/33140\u001b[0m \u001b[32m━━━━━━━━━━━━━━━━━━━━\u001b[0m\u001b[37m\u001b[0m \u001b[1m52s\u001b[0m 2ms/step - loss: 2.2878e-05\n",
      "Epoch 7/20\n",
      "\u001b[1m33140/33140\u001b[0m \u001b[32m━━━━━━━━━━━━━━━━━━━━\u001b[0m\u001b[37m\u001b[0m \u001b[1m52s\u001b[0m 2ms/step - loss: 1.9814e-05\n",
      "Epoch 8/20\n",
      "\u001b[1m33140/33140\u001b[0m \u001b[32m━━━━━━━━━━━━━━━━━━━━\u001b[0m\u001b[37m\u001b[0m \u001b[1m52s\u001b[0m 2ms/step - loss: 1.7554e-05\n",
      "Epoch 9/20\n",
      "\u001b[1m33140/33140\u001b[0m \u001b[32m━━━━━━━━━━━━━━━━━━━━\u001b[0m\u001b[37m\u001b[0m \u001b[1m52s\u001b[0m 2ms/step - loss: 1.8262e-05\n",
      "Epoch 10/20\n",
      "\u001b[1m33140/33140\u001b[0m \u001b[32m━━━━━━━━━━━━━━━━━━━━\u001b[0m\u001b[37m\u001b[0m \u001b[1m52s\u001b[0m 2ms/step - loss: 1.7367e-05\n",
      "Epoch 11/20\n",
      "\u001b[1m33140/33140\u001b[0m \u001b[32m━━━━━━━━━━━━━━━━━━━━\u001b[0m\u001b[37m\u001b[0m \u001b[1m52s\u001b[0m 2ms/step - loss: 1.7148e-05\n",
      "Epoch 12/20\n",
      "\u001b[1m33140/33140\u001b[0m \u001b[32m━━━━━━━━━━━━━━━━━━━━\u001b[0m\u001b[37m\u001b[0m \u001b[1m52s\u001b[0m 2ms/step - loss: 1.6991e-05\n",
      "Epoch 13/20\n",
      "\u001b[1m33140/33140\u001b[0m \u001b[32m━━━━━━━━━━━━━━━━━━━━\u001b[0m\u001b[37m\u001b[0m \u001b[1m52s\u001b[0m 2ms/step - loss: 1.6469e-05\n",
      "Epoch 14/20\n",
      "\u001b[1m33140/33140\u001b[0m \u001b[32m━━━━━━━━━━━━━━━━━━━━\u001b[0m\u001b[37m\u001b[0m \u001b[1m51s\u001b[0m 2ms/step - loss: 1.6210e-05\n",
      "Epoch 15/20\n",
      "\u001b[1m33140/33140\u001b[0m \u001b[32m━━━━━━━━━━━━━━━━━━━━\u001b[0m\u001b[37m\u001b[0m \u001b[1m82s\u001b[0m 2ms/step - loss: 1.5545e-05\n",
      "Epoch 16/20\n",
      "\u001b[1m33140/33140\u001b[0m \u001b[32m━━━━━━━━━━━━━━━━━━━━\u001b[0m\u001b[37m\u001b[0m \u001b[1m52s\u001b[0m 2ms/step - loss: 1.6580e-05\n",
      "Epoch 17/20\n",
      "\u001b[1m33140/33140\u001b[0m \u001b[32m━━━━━━━━━━━━━━━━━━━━\u001b[0m\u001b[37m\u001b[0m \u001b[1m51s\u001b[0m 2ms/step - loss: 1.5913e-05\n",
      "Epoch 18/20\n",
      "\u001b[1m33140/33140\u001b[0m \u001b[32m━━━━━━━━━━━━━━━━━━━━\u001b[0m\u001b[37m\u001b[0m \u001b[1m52s\u001b[0m 2ms/step - loss: 1.5393e-05\n",
      "Epoch 19/20\n",
      "\u001b[1m33140/33140\u001b[0m \u001b[32m━━━━━━━━━━━━━━━━━━━━\u001b[0m\u001b[37m\u001b[0m \u001b[1m52s\u001b[0m 2ms/step - loss: 1.4383e-05\n",
      "Epoch 20/20\n",
      "\u001b[1m33140/33140\u001b[0m \u001b[32m━━━━━━━━━━━━━━━━━━━━\u001b[0m\u001b[37m\u001b[0m \u001b[1m52s\u001b[0m 2ms/step - loss: 1.5856e-05\n"
     ]
    }
   ],
   "source": [
    "from tensorflow.keras.callbacks import EarlyStopping\n",
    "\n",
    "early_stopping = EarlyStopping(monitor=\"loss\", patience=5)\n",
    "history = autoencoder.fit(X_train, X_train, epochs=num_epochs, batch_size=batch_size, callbacks=[early_stopping])\n"
   ]
  },
  {
   "cell_type": "code",
   "execution_count": 44,
   "metadata": {
    "execution": {
     "iopub.execute_input": "2024-10-29T18:31:26.247663Z",
     "iopub.status.busy": "2024-10-29T18:31:26.246673Z",
     "iopub.status.idle": "2024-10-29T18:31:26.254620Z",
     "shell.execute_reply": "2024-10-29T18:31:26.253669Z",
     "shell.execute_reply.started": "2024-10-29T18:31:26.247618Z"
    },
    "trusted": true
   },
   "outputs": [
    {
     "name": "stdout",
     "output_type": "stream",
     "text": [
      "Encoded X_train shape: (2120907, 32, 1)\n",
      "y_train shape: (2120907, 15)\n"
     ]
    }
   ],
   "source": [
    "encoded_X_train = np.squeeze(encoded_X_train)  # This removes any extra singleton dimensions\n",
    "encoded_X_train = np.expand_dims(encoded_X_train, axis=-1)  # Add only one extra dimension for CNN compatibility\n",
    "inputs = layers.Input(shape=(32, 1))  # Adjust this to match your latent_dim\n",
    "print(\"Encoded X_train shape:\", encoded_X_train.shape)\n",
    "print(\"y_train shape:\", y_train.shape)\n"
   ]
  },
  {
   "cell_type": "code",
   "execution_count": 50,
   "metadata": {
    "execution": {
     "iopub.execute_input": "2024-10-29T18:34:23.955369Z",
     "iopub.status.busy": "2024-10-29T18:34:23.954540Z",
     "iopub.status.idle": "2024-10-29T18:34:24.021341Z",
     "shell.execute_reply": "2024-10-29T18:34:24.020523Z",
     "shell.execute_reply.started": "2024-10-29T18:34:23.955323Z"
    },
    "trusted": true
   },
   "outputs": [],
   "source": [
    "from tensorflow.keras import layers, models\n",
    "\n",
    "# Input Layer\n",
    "inputs = layers.Input(shape=(32, 1))  # matches encoded_X_train\n",
    "\n",
    "# CNN Path\n",
    "cnn_path = layers.Conv1D(filters=64, kernel_size=3, activation='relu', padding='same')(inputs)\n",
    "cnn_path = layers.MaxPooling1D(pool_size=2)(cnn_path)\n",
    "cnn_path = layers.Flatten()(cnn_path)  # Flatten CNN path output\n",
    "\n",
    "# LSTM Path\n",
    "lstm_path = layers.LSTM(64, return_sequences=True)(inputs)\n",
    "lstm_path = layers.Flatten()(lstm_path)  # Flatten LSTM path output\n",
    "\n",
    "# Combine CNN and LSTM paths\n",
    "combined = layers.concatenate([cnn_path, lstm_path])\n",
    "\n",
    "# Attention Mechanism\n",
    "attention = layers.Dense(1, activation='tanh')(combined)\n",
    "attention_weights = layers.Activation('softmax')(attention)\n",
    "attention_output = layers.multiply([combined, attention_weights])  # Apply attention weights\n",
    "\n",
    "# Fully connected layer and output\n",
    "x = layers.Dense(32, activation='relu')(attention_output)\n",
    "output = layers.Dense(15, activation='softmax')(x)  # 15 output classes for multi-class classification\n",
    "\n",
    "# Model compilation\n",
    "attention_cnn_lstm_model = models.Model(inputs=inputs, outputs=output)\n",
    "attention_cnn_lstm_model.compile(optimizer='adam', loss='categorical_crossentropy', metrics=['accuracy'])\n"
   ]
  },
  {
   "cell_type": "code",
   "execution_count": 51,
   "metadata": {
    "execution": {
     "iopub.execute_input": "2024-10-29T18:34:25.624006Z",
     "iopub.status.busy": "2024-10-29T18:34:25.623548Z",
     "iopub.status.idle": "2024-10-29T19:31:40.934167Z",
     "shell.execute_reply": "2024-10-29T19:31:40.933245Z",
     "shell.execute_reply.started": "2024-10-29T18:34:25.623948Z"
    },
    "trusted": true
   },
   "outputs": [
    {
     "name": "stdout",
     "output_type": "stream",
     "text": [
      "Epoch 1/20\n"
     ]
    },
    {
     "name": "stderr",
     "output_type": "stream",
     "text": [
      "/opt/conda/lib/python3.10/site-packages/keras/src/ops/nn.py:545: UserWarning: You are using a softmax over axis -1 of a tensor of shape (None, 1). This axis has size 1. The softmax operation will always return the value 1, which is likely not what you intended. Did you mean to use a sigmoid instead?\n",
      "  warnings.warn(\n"
     ]
    },
    {
     "name": "stdout",
     "output_type": "stream",
     "text": [
      "\u001b[1m26512/26512\u001b[0m \u001b[32m━━━━━━━━━━━━━━━━━━━━\u001b[0m\u001b[37m\u001b[0m \u001b[1m0s\u001b[0m 6ms/step - accuracy: 0.9591 - loss: 0.1235"
     ]
    },
    {
     "name": "stderr",
     "output_type": "stream",
     "text": [
      "/opt/conda/lib/python3.10/site-packages/keras/src/ops/nn.py:545: UserWarning: You are using a softmax over axis -1 of a tensor of shape (None, 1). This axis has size 1. The softmax operation will always return the value 1, which is likely not what you intended. Did you mean to use a sigmoid instead?\n",
      "  warnings.warn(\n"
     ]
    },
    {
     "name": "stdout",
     "output_type": "stream",
     "text": [
      "\u001b[1m26512/26512\u001b[0m \u001b[32m━━━━━━━━━━━━━━━━━━━━\u001b[0m\u001b[37m\u001b[0m \u001b[1m174s\u001b[0m 6ms/step - accuracy: 0.9591 - loss: 0.1235 - val_accuracy: 0.9770 - val_loss: 0.0590\n",
      "Epoch 2/20\n",
      "\u001b[1m26512/26512\u001b[0m \u001b[32m━━━━━━━━━━━━━━━━━━━━\u001b[0m\u001b[37m\u001b[0m \u001b[1m171s\u001b[0m 6ms/step - accuracy: 0.9773 - loss: 0.0558 - val_accuracy: 0.9790 - val_loss: 0.0483\n",
      "Epoch 3/20\n",
      "\u001b[1m26512/26512\u001b[0m \u001b[32m━━━━━━━━━━━━━━━━━━━━\u001b[0m\u001b[37m\u001b[0m \u001b[1m171s\u001b[0m 6ms/step - accuracy: 0.9801 - loss: 0.0489 - val_accuracy: 0.9801 - val_loss: 0.0489\n",
      "Epoch 4/20\n",
      "\u001b[1m26512/26512\u001b[0m \u001b[32m━━━━━━━━━━━━━━━━━━━━\u001b[0m\u001b[37m\u001b[0m \u001b[1m171s\u001b[0m 6ms/step - accuracy: 0.9815 - loss: 0.0454 - val_accuracy: 0.9825 - val_loss: 0.0439\n",
      "Epoch 5/20\n",
      "\u001b[1m26512/26512\u001b[0m \u001b[32m━━━━━━━━━━━━━━━━━━━━\u001b[0m\u001b[37m\u001b[0m \u001b[1m171s\u001b[0m 6ms/step - accuracy: 0.9821 - loss: 0.0432 - val_accuracy: 0.9832 - val_loss: 0.0413\n",
      "Epoch 6/20\n",
      "\u001b[1m26512/26512\u001b[0m \u001b[32m━━━━━━━━━━━━━━━━━━━━\u001b[0m\u001b[37m\u001b[0m \u001b[1m172s\u001b[0m 6ms/step - accuracy: 0.9830 - loss: 0.0411 - val_accuracy: 0.9826 - val_loss: 0.0485\n",
      "Epoch 7/20\n",
      "\u001b[1m26512/26512\u001b[0m \u001b[32m━━━━━━━━━━━━━━━━━━━━\u001b[0m\u001b[37m\u001b[0m \u001b[1m172s\u001b[0m 6ms/step - accuracy: 0.9845 - loss: 0.0386 - val_accuracy: 0.9856 - val_loss: 0.0380\n",
      "Epoch 8/20\n",
      "\u001b[1m26512/26512\u001b[0m \u001b[32m━━━━━━━━━━━━━━━━━━━━\u001b[0m\u001b[37m\u001b[0m \u001b[1m172s\u001b[0m 6ms/step - accuracy: 0.9850 - loss: 0.0376 - val_accuracy: 0.9860 - val_loss: 0.0365\n",
      "Epoch 9/20\n",
      "\u001b[1m26512/26512\u001b[0m \u001b[32m━━━━━━━━━━━━━━━━━━━━\u001b[0m\u001b[37m\u001b[0m \u001b[1m171s\u001b[0m 6ms/step - accuracy: 0.9856 - loss: 0.0359 - val_accuracy: 0.9862 - val_loss: 0.0359\n",
      "Epoch 10/20\n",
      "\u001b[1m  963/26512\u001b[0m \u001b[37m━━━━━━━━━━━━━━━━━━━━\u001b[0m \u001b[1m2:27\u001b[0m 6ms/step - accuracy: 0.9859 - loss: 0.0362"
     ]
    },
    {
     "name": "stderr",
     "output_type": "stream",
     "text": [
      "IOPub message rate exceeded.\n",
      "The notebook server will temporarily stop sending output\n",
      "to the client in order to avoid crashing it.\n",
      "To change this limit, set the config variable\n",
      "`--NotebookApp.iopub_msg_rate_limit`.\n",
      "\n",
      "Current values:\n",
      "NotebookApp.iopub_msg_rate_limit=1000.0 (msgs/sec)\n",
      "NotebookApp.rate_limit_window=3.0 (secs)\n",
      "\n"
     ]
    },
    {
     "name": "stdout",
     "output_type": "stream",
     "text": [
      "\u001b[1m26512/26512\u001b[0m \u001b[32m━━━━━━━━━━━━━━━━━━━━\u001b[0m\u001b[37m\u001b[0m \u001b[1m172s\u001b[0m 6ms/step - accuracy: 0.9856 - loss: 0.0360 - val_accuracy: 0.9853 - val_loss: 0.0366\n",
      "Epoch 11/20\n",
      "\u001b[1m26512/26512\u001b[0m \u001b[32m━━━━━━━━━━━━━━━━━━━━\u001b[0m\u001b[37m\u001b[0m \u001b[1m172s\u001b[0m 6ms/step - accuracy: 0.9857 - loss: 0.0354 - val_accuracy: 0.9862 - val_loss: 0.0365\n",
      "Epoch 12/20\n",
      "\u001b[1m26512/26512\u001b[0m \u001b[32m━━━━━━━━━━━━━━━━━━━━\u001b[0m\u001b[37m\u001b[0m \u001b[1m171s\u001b[0m 6ms/step - accuracy: 0.9858 - loss: 0.0351 - val_accuracy: 0.9865 - val_loss: 0.0363\n",
      "Epoch 13/20\n",
      "\u001b[1m26512/26512\u001b[0m \u001b[32m━━━━━━━━━━━━━━━━━━━━\u001b[0m\u001b[37m\u001b[0m \u001b[1m172s\u001b[0m 6ms/step - accuracy: 0.9861 - loss: 0.0346 - val_accuracy: 0.9860 - val_loss: 0.0360\n",
      "Epoch 14/20\n",
      "\u001b[1m26512/26512\u001b[0m \u001b[32m━━━━━━━━━━━━━━━━━━━━\u001b[0m\u001b[37m\u001b[0m \u001b[1m172s\u001b[0m 6ms/step - accuracy: 0.9861 - loss: 0.0343 - val_accuracy: 0.9864 - val_loss: 0.0344\n",
      "Epoch 15/20\n",
      "\u001b[1m26512/26512\u001b[0m \u001b[32m━━━━━━━━━━━━━━━━━━━━\u001b[0m\u001b[37m\u001b[0m \u001b[1m172s\u001b[0m 6ms/step - accuracy: 0.9863 - loss: 0.0339 - val_accuracy: 0.9867 - val_loss: 0.0341\n",
      "Epoch 16/20\n",
      "\u001b[1m26512/26512\u001b[0m \u001b[32m━━━━━━━━━━━━━━━━━━━━\u001b[0m\u001b[37m\u001b[0m \u001b[1m172s\u001b[0m 6ms/step - accuracy: 0.9863 - loss: 0.0337 - val_accuracy: 0.9874 - val_loss: 0.0333\n",
      "Epoch 17/20\n",
      "\u001b[1m26512/26512\u001b[0m \u001b[32m━━━━━━━━━━━━━━━━━━━━\u001b[0m\u001b[37m\u001b[0m \u001b[1m172s\u001b[0m 6ms/step - accuracy: 0.9866 - loss: 0.0333 - val_accuracy: 0.9863 - val_loss: 0.0364\n",
      "Epoch 18/20\n",
      "\u001b[1m26512/26512\u001b[0m \u001b[32m━━━━━━━━━━━━━━━━━━━━\u001b[0m\u001b[37m\u001b[0m \u001b[1m172s\u001b[0m 6ms/step - accuracy: 0.9868 - loss: 0.0326 - val_accuracy: 0.9860 - val_loss: 0.0353\n",
      "Epoch 19/20\n",
      "\u001b[1m26512/26512\u001b[0m \u001b[32m━━━━━━━━━━━━━━━━━━━━\u001b[0m\u001b[37m\u001b[0m \u001b[1m171s\u001b[0m 6ms/step - accuracy: 0.9866 - loss: 0.0326 - val_accuracy: 0.9869 - val_loss: 0.0349\n",
      "Epoch 20/20\n",
      "\u001b[1m26512/26512\u001b[0m \u001b[32m━━━━━━━━━━━━━━━━━━━━\u001b[0m\u001b[37m\u001b[0m \u001b[1m172s\u001b[0m 6ms/step - accuracy: 0.9870 - loss: 0.0322 - val_accuracy: 0.9837 - val_loss: 0.0445\n"
     ]
    }
   ],
   "source": [
    "# Train the model\n",
    "history = attention_cnn_lstm_model.fit(encoded_X_train, y_train, epochs=num_epochs, batch_size=batch_size, validation_split=0.2)\n"
   ]
  },
  {
   "cell_type": "code",
   "execution_count": 53,
   "metadata": {
    "execution": {
     "iopub.execute_input": "2024-10-29T19:33:41.184280Z",
     "iopub.status.busy": "2024-10-29T19:33:41.183509Z",
     "iopub.status.idle": "2024-10-29T19:33:41.279932Z",
     "shell.execute_reply": "2024-10-29T19:33:41.279026Z",
     "shell.execute_reply.started": "2024-10-29T19:33:41.184228Z"
    },
    "trusted": true
   },
   "outputs": [],
   "source": [
    "# Save the Autoencoder model\n",
    "autoencoder.save(\"autoencoder_model.h5\")\n",
    "\n",
    "# Save the final Attention CNN-LSTM model\n",
    "attention_cnn_lstm_model.save(\"attention_cnn_lstm_model.h5\")\n"
   ]
  },
  {
   "cell_type": "code",
   "execution_count": 54,
   "metadata": {
    "execution": {
     "iopub.execute_input": "2024-10-29T19:35:25.487166Z",
     "iopub.status.busy": "2024-10-29T19:35:25.486445Z",
     "iopub.status.idle": "2024-10-29T19:35:25.492438Z",
     "shell.execute_reply": "2024-10-29T19:35:25.491423Z",
     "shell.execute_reply.started": "2024-10-29T19:35:25.487121Z"
    },
    "trusted": true
   },
   "outputs": [
    {
     "name": "stdout",
     "output_type": "stream",
     "text": [
      "Encoded X_test shape: (706969, 32)\n",
      "y_test shape: (706969, 15)\n"
     ]
    }
   ],
   "source": [
    "print(f\"Encoded X_test shape: {encoded_X_test.shape}\")\n",
    "print(f\"y_test shape: {y_test.shape}\")"
   ]
  },
  {
   "cell_type": "code",
   "execution_count": 55,
   "metadata": {
    "execution": {
     "iopub.execute_input": "2024-10-29T19:36:14.050316Z",
     "iopub.status.busy": "2024-10-29T19:36:14.049528Z",
     "iopub.status.idle": "2024-10-29T19:36:14.054768Z",
     "shell.execute_reply": "2024-10-29T19:36:14.053597Z",
     "shell.execute_reply.started": "2024-10-29T19:36:14.050275Z"
    },
    "trusted": true
   },
   "outputs": [],
   "source": [
    "encoded_X_test = encoded_X_test.reshape(-1, 32, 1)"
   ]
  },
  {
   "cell_type": "code",
   "execution_count": 56,
   "metadata": {
    "execution": {
     "iopub.execute_input": "2024-10-29T19:36:24.886841Z",
     "iopub.status.busy": "2024-10-29T19:36:24.885943Z",
     "iopub.status.idle": "2024-10-29T19:37:30.955550Z",
     "shell.execute_reply": "2024-10-29T19:37:30.954570Z",
     "shell.execute_reply.started": "2024-10-29T19:36:24.886796Z"
    },
    "trusted": true
   },
   "outputs": [
    {
     "name": "stdout",
     "output_type": "stream",
     "text": [
      "\u001b[1m22093/22093\u001b[0m \u001b[32m━━━━━━━━━━━━━━━━━━━━\u001b[0m\u001b[37m\u001b[0m \u001b[1m66s\u001b[0m 3ms/step - accuracy: 0.9831 - loss: 0.0445\n",
      "Test Loss: 0.0445, Test Accuracy: 0.9831\n"
     ]
    }
   ],
   "source": [
    "test_loss, test_accuracy = attention_cnn_lstm_model.evaluate(encoded_X_test, y_test)\n",
    "print(f\"Test Loss: {test_loss:.4f}, Test Accuracy: {test_accuracy:.4f}\")"
   ]
  },
  {
   "cell_type": "code",
   "execution_count": 57,
   "metadata": {
    "execution": {
     "iopub.execute_input": "2024-10-29T19:52:52.177964Z",
     "iopub.status.busy": "2024-10-29T19:52:52.177031Z",
     "iopub.status.idle": "2024-10-29T19:54:50.519615Z",
     "shell.execute_reply": "2024-10-29T19:54:50.518571Z",
     "shell.execute_reply.started": "2024-10-29T19:52:52.177920Z"
    },
    "trusted": true
   },
   "outputs": [
    {
     "name": "stdout",
     "output_type": "stream",
     "text": [
      "\u001b[1m22093/22093\u001b[0m \u001b[32m━━━━━━━━━━━━━━━━━━━━\u001b[0m\u001b[37m\u001b[0m \u001b[1m66s\u001b[0m 3ms/step - accuracy: 0.9831 - loss: 0.0445\n",
      "Test Loss: 0.0445, Test Accuracy: 0.9831\n",
      "\u001b[1m   53/22093\u001b[0m \u001b[37m━━━━━━━━━━━━━━━━━━━━\u001b[0m \u001b[1m43s\u001b[0m 2ms/step     "
     ]
    },
    {
     "name": "stderr",
     "output_type": "stream",
     "text": [
      "/opt/conda/lib/python3.10/site-packages/keras/src/ops/nn.py:545: UserWarning: You are using a softmax over axis -1 of a tensor of shape (32, 1). This axis has size 1. The softmax operation will always return the value 1, which is likely not what you intended. Did you mean to use a sigmoid instead?\n",
      "  warnings.warn(\n"
     ]
    },
    {
     "name": "stdout",
     "output_type": "stream",
     "text": [
      "\u001b[1m22093/22093\u001b[0m \u001b[32m━━━━━━━━━━━━━━━━━━━━\u001b[0m\u001b[37m\u001b[0m \u001b[1m43s\u001b[0m 2ms/step\n"
     ]
    },
    {
     "name": "stderr",
     "output_type": "stream",
     "text": [
      "/opt/conda/lib/python3.10/site-packages/keras/src/ops/nn.py:545: UserWarning: You are using a softmax over axis -1 of a tensor of shape (None, 1). This axis has size 1. The softmax operation will always return the value 1, which is likely not what you intended. Did you mean to use a sigmoid instead?\n",
      "  warnings.warn(\n"
     ]
    }
   ],
   "source": [
    "from sklearn.metrics import classification_report, confusion_matrix\n",
    "import numpy as np\n",
    "\n",
    "# 1. Evaluate model accuracy on the test set\n",
    "test_loss, test_accuracy = attention_cnn_lstm_model.evaluate(encoded_X_test, y_test)\n",
    "print(f\"Test Loss: {test_loss:.4f}, Test Accuracy: {test_accuracy:.4f}\")\n",
    "\n",
    "# 2. Get model predictions\n",
    "predictions = attention_cnn_lstm_model.predict(encoded_X_test)\n",
    "\n",
    "# Convert predictions and true labels from one-hot encoded format to label indices\n",
    "predicted_labels = np.argmax(predictions, axis=1)\n",
    "true_labels = np.argmax(y_test, axis=1)"
   ]
  },
  {
   "cell_type": "code",
   "execution_count": 58,
   "metadata": {
    "execution": {
     "iopub.execute_input": "2024-10-29T19:55:11.468141Z",
     "iopub.status.busy": "2024-10-29T19:55:11.467075Z",
     "iopub.status.idle": "2024-10-29T19:55:13.379498Z",
     "shell.execute_reply": "2024-10-29T19:55:13.378493Z",
     "shell.execute_reply.started": "2024-10-29T19:55:11.468095Z"
    },
    "trusted": true
   },
   "outputs": [
    {
     "name": "stdout",
     "output_type": "stream",
     "text": [
      "\n",
      "Classification Report:\n"
     ]
    },
    {
     "name": "stderr",
     "output_type": "stream",
     "text": [
      "/opt/conda/lib/python3.10/site-packages/sklearn/metrics/_classification.py:1344: UndefinedMetricWarning: Precision and F-score are ill-defined and being set to 0.0 in labels with no predicted samples. Use `zero_division` parameter to control this behavior.\n",
      "  _warn_prf(average, modifier, msg_start, len(result))\n",
      "/opt/conda/lib/python3.10/site-packages/sklearn/metrics/_classification.py:1344: UndefinedMetricWarning: Precision and F-score are ill-defined and being set to 0.0 in labels with no predicted samples. Use `zero_division` parameter to control this behavior.\n",
      "  _warn_prf(average, modifier, msg_start, len(result))\n"
     ]
    },
    {
     "name": "stdout",
     "output_type": "stream",
     "text": [
      "                                   precision    recall  f1-score   support\n",
      "\n",
      "                     Label_BENIGN       0.99      0.99      0.99    568011\n",
      "                        Label_Bot       0.77      0.41      0.53       469\n",
      "                       Label_DDoS       0.99      1.00      0.99     32164\n",
      "              Label_DoS GoldenEye       0.99      0.97      0.98      2580\n",
      "                   Label_DoS Hulk       0.98      0.95      0.97     57271\n",
      "           Label_DoS Slowhttptest       0.97      0.97      0.97      1399\n",
      "              Label_DoS slowloris       0.96      0.99      0.98      1485\n",
      "                Label_FTP-Patator       1.00      0.87      0.93      1938\n",
      "                 Label_Heartbleed       1.00      1.00      1.00         2\n",
      "               Label_Infiltration       0.10      0.50      0.17         8\n",
      "                   Label_PortScan       0.90      0.95      0.92     39617\n",
      "                Label_SSH-Patator       0.94      0.89      0.92      1486\n",
      "   Label_Web Attack � Brute Force       0.72      0.08      0.15       381\n",
      " Label_Web Attack � Sql Injection       0.00      0.00      0.00         1\n",
      "           Label_Web Attack � XSS       0.00      0.00      0.00       157\n",
      "\n",
      "                         accuracy                           0.98    706969\n",
      "                        macro avg       0.75      0.70      0.70    706969\n",
      "                     weighted avg       0.98      0.98      0.98    706969\n",
      "\n"
     ]
    },
    {
     "name": "stderr",
     "output_type": "stream",
     "text": [
      "/opt/conda/lib/python3.10/site-packages/sklearn/metrics/_classification.py:1344: UndefinedMetricWarning: Precision and F-score are ill-defined and being set to 0.0 in labels with no predicted samples. Use `zero_division` parameter to control this behavior.\n",
      "  _warn_prf(average, modifier, msg_start, len(result))\n"
     ]
    }
   ],
   "source": [
    "# 3. Classification Report: Precision, Recall, F1-Score for each class\n",
    "print(\"\\nClassification Report:\")\n",
    "print(classification_report(true_labels, predicted_labels, target_names=label_col))"
   ]
  },
  {
   "cell_type": "code",
   "execution_count": 60,
   "metadata": {
    "execution": {
     "iopub.execute_input": "2024-10-29T19:55:30.724437Z",
     "iopub.status.busy": "2024-10-29T19:55:30.723353Z",
     "iopub.status.idle": "2024-10-29T19:55:32.032433Z",
     "shell.execute_reply": "2024-10-29T19:55:32.031527Z",
     "shell.execute_reply.started": "2024-10-29T19:55:30.724376Z"
    },
    "trusted": true
   },
   "outputs": [
    {
     "data": {
      "image/png": "[encoded data removed]",
      "text/plain": [
       "<Figure size 1200x1000 with 2 Axes>"
      ]
     },
     "metadata": {},
     "output_type": "display_data"
    }
   ],
   "source": [
    "# Visualize Confusion Matrix\n",
    "import seaborn as sns\n",
    "import matplotlib.pyplot as plt\n",
    "\n",
    "plt.figure(figsize=(12, 10))\n",
    "sns.heatmap(conf_matrix, annot=True, fmt='d', cmap='Blues', xticklabels=label_col, yticklabels=label_col)\n",
    "plt.xlabel('Predicted Labels')\n",
    "plt.ylabel('True Labels')\n",
    "plt.title('Confusion Matrix')\n",
    "plt.show()"
   ]
  }
 ],
 "metadata": {
  "kaggle": {
   "accelerator": "nvidiaTeslaT4",
   "dataSources": [
    {
     "datasetId": 3674161,
     "sourceId": 6376134,
     "sourceType": "datasetVersion"
    }
   ],
   "dockerImageVersionId": 30787,
   "isGpuEnabled": true,
   "isInternetEnabled": true,
   "language": "python",
   "sourceType": "notebook"
  },
  "kernelspec": {
   "display_name": "Python 3",
   "language": "python",
   "name": "python3"
  },
  "language_info": {
   "codemirror_mode": {
    "name": "ipython",
    "version": 3
   },
   "file_extension": ".py",
   "mimetype": "text/x-python",
   "name": "python",
   "nbconvert_exporter": "python",
   "pygments_lexer": "ipython3",
   "version": "3.12.5"
  }
 },
 "nbformat": 4,
 "nbformat_minor": 4
}
